{
 "cells": [
  {
   "cell_type": "markdown",
   "metadata": {},
   "source": [
    "Load data with Pandas from a CSV"
   ]
  },
  {
   "cell_type": "code",
   "execution_count": 6,
   "metadata": {},
   "outputs": [
    {
     "name": "stdout",
     "output_type": "stream",
     "text": [
      "Number of rows in file: 6187847\n",
      "Time taken: 86.26 seconds\n"
     ]
    }
   ],
   "source": [
    "import pandas as pd\n",
    "import time\n",
    "\n",
    "start_time = time.time()\n",
    "\n",
    "df = pd.read_csv(r\"C:\\Users\\es422\\Documents\\xentity\\BLM\\MLRS\\Data\\Snapshots\\MLRS\\2025-03-02_MLRS_Full\\2025-03-02\\consolidated_tables\\CR_FULL_BLM_CASE.csv\", sep='|', low_memory=False)\n",
    "\n",
    "print(f\"Number of rows in file: {df.shape[0]}\")\n",
    "print(f\"Time taken: {time.time() - start_time:.2f} seconds\")"
   ]
  },
  {
   "cell_type": "markdown",
   "metadata": {},
   "source": [
    "Load data with Pandas from a Parquet"
   ]
  },
  {
   "cell_type": "code",
   "execution_count": 7,
   "metadata": {},
   "outputs": [
    {
     "name": "stdout",
     "output_type": "stream",
     "text": [
      "Number of rows in file: 6187847\n",
      "Time taken: 39.09 seconds\n"
     ]
    }
   ],
   "source": [
    "import pandas as pd\n",
    "\n",
    "start_time = time.time()\n",
    "\n",
    "df = pd.read_parquet(r\"C:\\Users\\es422\\Documents\\xentity\\BLM\\MLRS\\Data\\Snapshots\\MLRS\\2025-03-02_MLRS_Full\\2025-03-02\\consolidated_tables\\CR_FULL_BLM_CASE.parquet\")\n",
    "print(f\"Number of rows in file: {df.shape[0]}\")\n",
    "print(f\"Time taken: {time.time() - start_time:.2f} seconds\")"
   ]
  },
  {
   "cell_type": "markdown",
   "metadata": {},
   "source": [
    "Test PySpark from parquet"
   ]
  },
  {
   "cell_type": "code",
   "execution_count": 8,
   "metadata": {},
   "outputs": [
    {
     "name": "stdout",
     "output_type": "stream",
     "text": [
      "Number of rows in file: 6187847\n",
      "Time taken: 3.76 seconds\n"
     ]
    }
   ],
   "source": [
    "import os\n",
    "import sys\n",
    "\n",
    "# Set Hadoop environment variables\n",
    "os.environ['HADOOP_HOME'] = r'C:\\hadoop'\n",
    "os.environ['PATH'] = os.environ['PATH'] + r';C:\\hadoop\\bin'\n",
    "\n",
    "# Create SparkSession with datetime rebase configuration\n",
    "from pyspark.sql import SparkSession\n",
    "spark = SparkSession.builder \\\n",
    "    .appName(\"LocalSpark\") \\\n",
    "    .config(\"spark.driver.memory\", \"16g\") \\\n",
    "    .config(\"spark.sql.parquet.datetimeRebaseModeInRead\", \"LEGACY\") \\\n",
    "    .config(\"spark.sql.parquet.datetimeRebaseModeInWrite\", \"LEGACY\") \\\n",
    "    .config(\"spark.sql.parquet.int96RebaseModeInWrite\", \"LEGACY\") \\\n",
    "    .getOrCreate()\n",
    "\n",
    "start_time = time.time()\n",
    "\n",
    "df = spark.read.parquet(r\"C:\\Users\\es422\\Documents\\xentity\\BLM\\MLRS\\Data\\Snapshots\\MLRS\\2025-03-02_MLRS_Full\\2025-03-02\\consolidated_tables\\CR_FULL_BLM_CASE.parquet\")\n",
    "print(f\"Number of rows in file: {df.count()}\")\n",
    "print(f\"Time taken: {time.time() - start_time:.2f} seconds\")"
   ]
  },
  {
   "cell_type": "markdown",
   "metadata": {},
   "source": [
    "Dask from CSV"
   ]
  },
  {
   "cell_type": "code",
   "execution_count": 9,
   "metadata": {},
   "outputs": [
    {
     "name": "stdout",
     "output_type": "stream",
     "text": [
      "Number of rows: 6187847\n",
      "Time taken: 101.83 seconds\n"
     ]
    }
   ],
   "source": [
    "import dask.dataframe as dd\n",
    "\n",
    "start_time = time.time()\n",
    "\n",
    "df = dd.read_csv(\n",
    "    r\"C:\\Users\\es422\\Documents\\xentity\\BLM\\MLRS\\Data\\Snapshots\\MLRS\\2025-03-02_MLRS_Full\\2025-03-02\\consolidated_tables\\CR_FULL_BLM_CASE.csv\",\n",
    "    sep='|',\n",
    "    dtype = 'object',\n",
    "    low_memory=False,  \n",
    ")\n",
    "print(f\"Number of rows: {df.shape[0].compute()}\")\n",
    "print(f\"Time taken: {time.time() - start_time:.2f} seconds\")"
   ]
  },
  {
   "cell_type": "markdown",
   "metadata": {},
   "source": [
    "Dask from parquet"
   ]
  },
  {
   "cell_type": "code",
   "execution_count": 10,
   "metadata": {},
   "outputs": [
    {
     "name": "stdout",
     "output_type": "stream",
     "text": [
      "Number of rows: 6187847\n",
      "Time taken: 21.30 seconds\n"
     ]
    }
   ],
   "source": [
    "import dask.dataframe as dd\n",
    "\n",
    "start_time = time.time()\n",
    "\n",
    "df = dd.read_parquet(r\"C:\\Users\\es422\\Documents\\xentity\\BLM\\MLRS\\Data\\Snapshots\\MLRS\\2025-03-02_MLRS_Full\\2025-03-02\\consolidated_tables\\CR_FULL_BLM_CASE.parquet\")\n",
    "print(f\"Number of rows: {df.shape[0].compute()}\")\n",
    "print(f\"Time taken: {time.time() - start_time:.2f} seconds\")"
   ]
  }
 ],
 "metadata": {
  "kernelspec": {
   "display_name": "geo",
   "language": "python",
   "name": "python3"
  },
  "language_info": {
   "codemirror_mode": {
    "name": "ipython",
    "version": 3
   },
   "file_extension": ".py",
   "mimetype": "text/x-python",
   "name": "python",
   "nbconvert_exporter": "python",
   "pygments_lexer": "ipython3",
   "version": "3.11.4"
  }
 },
 "nbformat": 4,
 "nbformat_minor": 2
}
