{
 "cells": [
  {
   "cell_type": "markdown",
   "metadata": {},
   "source": [
    "Load data with Pandas from a CSV"
   ]
  },
  {
   "cell_type": "code",
   "execution_count": 1,
   "metadata": {},
   "outputs": [
    {
     "name": "stdout",
     "output_type": "stream",
     "text": [
      "Number of rows in file: 6187847\n"
     ]
    }
   ],
   "source": [
    "import pandas as pd\n",
    "df = pd.read_csv(r\"C:\\Users\\es422\\Documents\\xentity\\BLM\\MLRS\\Data\\Snapshots\\MLRS\\2025-03-02_MLRS_Full\\2025-03-02\\consolidated_tables\\CR_FULL_BLM_CASE.csv\", sep='|', low_memory=False)\n",
    "print(f\"Number of rows in file: {df.shape[0]}\")"
   ]
  },
  {
   "cell_type": "markdown",
   "metadata": {},
   "source": [
    "Load data with Pandas from a Parquet"
   ]
  },
  {
   "cell_type": "code",
   "execution_count": 2,
   "metadata": {},
   "outputs": [
    {
     "name": "stdout",
     "output_type": "stream",
     "text": [
      "Number of rows in file: 6187847\n"
     ]
    }
   ],
   "source": [
    "import pandas as pd\n",
    "\n",
    "df = pd.read_parquet(r\"C:\\Users\\es422\\Documents\\xentity\\BLM\\MLRS\\Data\\Snapshots\\MLRS\\2025-03-02_MLRS_Full\\2025-03-02\\consolidated_tables\\CR_FULL_BLM_CASE.parquet\")\n",
    "print(f\"Number of rows in file: {df.shape[0]}\")"
   ]
  },
  {
   "cell_type": "markdown",
   "metadata": {},
   "source": [
    "Test PySpark from parquet"
   ]
  },
  {
   "cell_type": "code",
   "execution_count": 3,
   "metadata": {},
   "outputs": [
    {
     "name": "stdout",
     "output_type": "stream",
     "text": [
      "Number of rows in file: 6187847\n"
     ]
    }
   ],
   "source": [
    "import os\n",
    "import sys\n",
    "\n",
    "# Set Hadoop environment variables\n",
    "os.environ['HADOOP_HOME'] = r'C:\\hadoop'\n",
    "os.environ['PATH'] = os.environ['PATH'] + r';C:\\hadoop\\bin'\n",
    "\n",
    "# Create SparkSession with datetime rebase configuration\n",
    "from pyspark.sql import SparkSession\n",
    "spark = SparkSession.builder \\\n",
    "    .appName(\"LocalSpark\") \\\n",
    "    .config(\"spark.driver.memory\", \"16g\") \\\n",
    "    .config(\"spark.sql.parquet.datetimeRebaseModeInRead\", \"LEGACY\") \\\n",
    "    .config(\"spark.sql.parquet.datetimeRebaseModeInWrite\", \"LEGACY\") \\\n",
    "    .config(\"spark.sql.parquet.int96RebaseModeInWrite\", \"LEGACY\") \\\n",
    "    .getOrCreate()\n",
    "\n",
    "df = spark.read.parquet(r\"C:\\Users\\es422\\Documents\\xentity\\BLM\\MLRS\\Data\\Snapshots\\MLRS\\2025-03-02_MLRS_Full\\2025-03-02\\consolidated_tables\\CR_FULL_BLM_CASE.parquet\")\n",
    "print(f\"Number of rows in file: {df.count()}\")"
   ]
  },
  {
   "cell_type": "markdown",
   "metadata": {},
   "source": [
    "Dask from CSV"
   ]
  },
  {
   "cell_type": "code",
   "execution_count": 4,
   "metadata": {},
   "outputs": [
    {
     "name": "stderr",
     "output_type": "stream",
     "text": [
      "c:\\Users\\es422\\anaconda3\\envs\\geo\\Lib\\site-packages\\dask\\dataframe\\_pyarrow_compat.py:23: UserWarning: You are using pyarrow version 12.0.1 which is known to be insecure. See https://www.cve.org/CVERecord?id=CVE-2023-47248 for further details. Please upgrade to pyarrow>=14.0.1 or install pyarrow-hotfix to patch your current version.\n",
      "  warnings.warn(\n"
     ]
    },
    {
     "name": "stdout",
     "output_type": "stream",
     "text": [
      "Number of rows: 6187847\n"
     ]
    }
   ],
   "source": [
    "import dask.dataframe as dd\n",
    "\n",
    "df = dd.read_csv(\n",
    "    r\"C:\\Users\\es422\\Documents\\xentity\\BLM\\MLRS\\Data\\Snapshots\\MLRS\\2025-03-02_MLRS_Full\\2025-03-02\\consolidated_tables\\CR_FULL_BLM_CASE.csv\",\n",
    "    sep='|',\n",
    "    dtype = 'object',\n",
    "    low_memory=False,  \n",
    ")\n",
    "print(f\"Number of rows: {df.shape[0].compute()}\")"
   ]
  },
  {
   "cell_type": "markdown",
   "metadata": {},
   "source": [
    "Dask from parquet"
   ]
  },
  {
   "cell_type": "code",
   "execution_count": 5,
   "metadata": {},
   "outputs": [
    {
     "name": "stdout",
     "output_type": "stream",
     "text": [
      "Number of rows: 6187847\n"
     ]
    }
   ],
   "source": [
    "import dask.dataframe as dd\n",
    "\n",
    "df = dd.read_parquet(r\"C:\\Users\\es422\\Documents\\xentity\\BLM\\MLRS\\Data\\Snapshots\\MLRS\\2025-03-02_MLRS_Full\\2025-03-02\\consolidated_tables\\CR_FULL_BLM_CASE.parquet\")\n",
    "print(f\"Number of rows: {df.shape[0].compute()}\")"
   ]
  }
 ],
 "metadata": {
  "kernelspec": {
   "display_name": "geo",
   "language": "python",
   "name": "python3"
  },
  "language_info": {
   "codemirror_mode": {
    "name": "ipython",
    "version": 3
   },
   "file_extension": ".py",
   "mimetype": "text/x-python",
   "name": "python",
   "nbconvert_exporter": "python",
   "pygments_lexer": "ipython3",
   "version": "3.11.4"
  }
 },
 "nbformat": 4,
 "nbformat_minor": 2
}
